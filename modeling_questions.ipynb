{
 "cells": [
  {
   "cell_type": "markdown",
   "metadata": {},
   "source": [
    "# Challenge: what model can answer this question?"
   ]
  },
  {
   "cell_type": "markdown",
   "metadata": {},
   "source": [
    "1) Predict the running times of prospective Olympic sprinters using data from the last 20 Olympics.   \n",
    "2) You have more features (columns) than rows in your dataset.   \n",
    "3) Identify the most important characteristic predicting likelihood of being jailed before age 20.   \n",
    "4) Implement a filter to “highlight” emails that might be important to the recipient.   \n",
    "5) You have 1000+ features.   \n",
    "6) Predict whether someone who adds items to their cart on a website will purchase the items.   \n",
    "7) Your dataset dimensions are 982400 x 500.   \n",
    "8) Identify faces in an image.   \n",
    "9) Predict which of three flavors of ice cream will be most popular with boys vs girls.   \n"
   ]
  },
  {
   "cell_type": "markdown",
   "metadata": {},
   "source": [
    "1) Predict the running times of prospective Olympic sprinters using data from the last 20 Olympics.   \n",
    "\n",
    "Chosen Method:  Linear regression (polynomial)  \n",
    "Reason: The output is continuous (sprint time) as well as the input (index of last 20 Olympics)."
   ]
  },
  {
   "cell_type": "markdown",
   "metadata": {},
   "source": [
    "2) You have more features (columns) than rows in your dataset.  \n",
    "Chosen Method:  Reduce dimensions by Principle Component Analysis.  \n",
    "Reason: Model is over saturated.\n"
   ]
  },
  {
   "cell_type": "markdown",
   "metadata": {},
   "source": [
    "3) Identify the most important characteristic predicting likelihood of being jailed before age 20.  \n",
    "Chosen method: Logistic regression  \n",
    "Reason: The output is binomial.  \n"
   ]
  },
  {
   "cell_type": "markdown",
   "metadata": {},
   "source": [
    "4) Implement a filter to “highlight” emails that might be important to the recipient.   \n",
    "Chosen Method: Naive Bayes  \n",
    "Reason: Key words used to predict importance.  "
   ]
  },
  {
   "cell_type": "markdown",
   "metadata": {},
   "source": [
    "5) You have 1000+ features.  \n",
    "Chosen method:  Ridge, Lasso, or Elastic Net (assume correct data types).  \n",
    "Reason: Uses penalties to select out unimportant factors.  "
   ]
  },
  {
   "cell_type": "markdown",
   "metadata": {},
   "source": [
    "6) Predict whether someone who adds items to their cart on a website will purchase the items.   \n",
    "Chosen method:  KNN Classifier.  \n",
    "Reason: The output (Purchase / No purchase) may be model after past purchase behavior (re item price, time in cart, etc.)"
   ]
  },
  {
   "cell_type": "markdown",
   "metadata": {},
   "source": [
    "7) Your dataset dimensions are 982400 x 500.   \n",
    "Chosen method: Gradient boosting  \n",
    "Reason:  Reduce unimportant factors  "
   ]
  },
  {
   "cell_type": "markdown",
   "metadata": {},
   "source": [
    "8) Identify faces in an image.   \n",
    "Chosen method: Logistic regression  \n",
    "Reason: Output is pixel by pixel match (yes / no); input is pixel location"
   ]
  },
  {
   "cell_type": "markdown",
   "metadata": {},
   "source": [
    "9) Predict which of three flavors of ice cream will be most popular with boys vs girls.  \n",
    "Chosen method: Naive Bayes\n",
    "Reason: Prior data on gender v preference"
   ]
  },
  {
   "cell_type": "code",
   "execution_count": null,
   "metadata": {},
   "outputs": [],
   "source": []
  }
 ],
 "metadata": {
  "kernelspec": {
   "display_name": "Python 3",
   "language": "python",
   "name": "python3"
  },
  "language_info": {
   "codemirror_mode": {
    "name": "ipython",
    "version": 3
   },
   "file_extension": ".py",
   "mimetype": "text/x-python",
   "name": "python",
   "nbconvert_exporter": "python",
   "pygments_lexer": "ipython3",
   "version": "3.7.0"
  },
  "toc": {
   "base_numbering": 1,
   "nav_menu": {},
   "number_sections": true,
   "sideBar": true,
   "skip_h1_title": true,
   "title_cell": "",
   "title_sidebar": "Contents",
   "toc_cell": false,
   "toc_position": {},
   "toc_section_display": true,
   "toc_window_display": true
  }
 },
 "nbformat": 4,
 "nbformat_minor": 2
}
